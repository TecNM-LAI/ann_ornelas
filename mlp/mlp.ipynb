{
 "cells": [
  {
   "cell_type": "code",
   "execution_count": 51,
   "metadata": {},
   "outputs": [],
   "source": [
    "import numpy as np\n",
    "import matplotlib as plt\n",
    "import prettytable as PretyTable"
   ]
  },
  {
   "cell_type": "code",
   "execution_count": 52,
   "metadata": {},
   "outputs": [],
   "source": [
    "class neuron(object):\n",
    "    def __init__(self, x_in, w_in):\n",
    "        self.inputs = x_in\n",
    "        self.weights = w_in\n",
    "        self.output = None\n",
    "        self.pon = None\n",
    "        self.a_fun = None\n",
    "    def calc_ponderada(self):\n",
    "        self.pon = 0\n",
    "        self.pon = np.dot(self.inputs, self.weights)\n",
    "    def calc_output(self):\n",
    "        #self.a_fun = 1 / (1 + np.exp(self.pon))\n",
    "        #self.output = self.a_fun * (1 - self.a_fun)\n",
    "        self.output = 1 / (1 + np.exp(-self.pon))\n"
   ]
  },
  {
   "cell_type": "code",
   "execution_count": 53,
   "metadata": {},
   "outputs": [
    {
     "name": "stdout",
     "output_type": "stream",
     "text": [
      "0.671725582405139\n"
     ]
    }
   ],
   "source": [
    "xin = np.array([1, 0, 0])\n",
    "win = np.array([0.716, 0.742, 0.576])\n",
    "n1 = neuron(xin, win)\n",
    "n1.calc_ponderada()\n",
    "n1.calc_output()\n",
    "print(n1.output)"
   ]
  }
 ],
 "metadata": {
  "kernelspec": {
   "display_name": "mcc",
   "language": "python",
   "name": "python3"
  },
  "language_info": {
   "codemirror_mode": {
    "name": "ipython",
    "version": 3
   },
   "file_extension": ".py",
   "mimetype": "text/x-python",
   "name": "python",
   "nbconvert_exporter": "python",
   "pygments_lexer": "ipython3",
   "version": "3.10.9"
  },
  "orig_nbformat": 4,
  "vscode": {
   "interpreter": {
    "hash": "eb83ca5f0dac6e3da012c26602b27d016f0cd95aa9022f0822fccb445c36bbbd"
   }
  }
 },
 "nbformat": 4,
 "nbformat_minor": 2
}
