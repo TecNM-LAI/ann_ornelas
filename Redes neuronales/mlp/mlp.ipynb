{
 "cells": [
  {
   "cell_type": "code",
   "execution_count": 3,
   "metadata": {},
   "outputs": [],
   "source": [
    "'''\n",
    "Ing. Pérez Hernández Oscar Kevin\n",
    "intituto tecnologico de León\n",
    "02/03/23 -----> ?/03/23\n",
    "\n",
    "'''\n",
    "\n",
    "import numpy as np\n",
    "\n",
    "\n",
    "class Neurona:\n",
    "\n",
    "    def __init__(self, vector_entradas, vector_pesos ): # Aqui le crramos un constructro. Este constructorn necesita uno ovarios atributos para construir la clase \"Neurona\" \n",
    "\n",
    "        self.vector_entradas = vector_entradas # <---- #|  Aqui le decimos al atribuito \"entradas\" que depende del parametro \"vectro_entrada\"\n",
    "        self.Vector_pesos = vector_pesos               #|  \n",
    "            \n",
    "    def suma_ponderada(self):                                             #|\n",
    "                                                                          #|\n",
    "        self.ponderada = np.dot(self.vector_entradas, self.Vector_pesos)  #|\n",
    "                                                                          #|  Aqui estamos creando metodos \n",
    "    def calcular_salida(self):                                            #|\n",
    "         self.salida = 1/(1 + np.exp(-self.ponderada))                    #|"
   ]
  },
  {
   "cell_type": "code",
   "execution_count": 4,
   "metadata": {},
   "outputs": [
    {
     "name": "stdout",
     "output_type": "stream",
     "text": [
      "[1.0, 0.0, 0.0]\n",
      "[0.716, 0.742, 0.564]\n",
      " tus valores de las neuronas de entrada son:\n",
      "\n",
      " [1. 0. 0.]\n",
      "\n",
      " y los valores de tus pesos son:\n",
      "\n",
      " [0.716 0.742 0.564]\n",
      "\n",
      "\n",
      "Tú 'Zinj' es = 0.671725582405139\n"
     ]
    }
   ],
   "source": [
    "lista_de_entrada = []\n",
    "lista_de_pesos = []\n",
    "\n",
    "lista_de_entrada.append(float(input(\"ingresa el valor del Bias: \")))\n",
    "lista_de_entrada.append(float(input(\"ingresa el valor de la primera entrada: \")))\n",
    "lista_de_entrada.append(float(input(\"ingresa el valor de la segunda entrada: \")))\n",
    "\n",
    "lista_de_pesos.append(float(input(\"ingresa el valor del peso del Bias: \")))\n",
    "lista_de_pesos.append(float(input(\"ingresa el valor del peso de la primera entrada: \")))\n",
    "lista_de_pesos.append(float(input(\"ingresa el valor del peso de la segunda entrada: \")))              \n",
    "\n",
    "print(lista_de_entrada)\n",
    "print(lista_de_pesos)\n",
    "\n",
    "vector_de_entradas = np.array(lista_de_entrada)\n",
    "vector_de_pesos = np.array(lista_de_pesos)\n",
    "\n",
    "print(f\" tus valores de las neuronas de entrada son:\\n\\n {vector_de_entradas}\\n\\n y los valores de tus pesos son:\\n\\n {vector_de_pesos}\\n\\n\")\n",
    "\n",
    "Neurona1 = Neurona(vector_de_entradas, vector_de_pesos)\n",
    "Neurona1.suma_ponderada()\n",
    "Neurona1.calcular_salida()\n",
    "\n",
    "print(f\"Tú 'Zinj' es = {Neurona1.salida}\" )\n",
    "\n"
   ]
  }
 ],
 "metadata": {
  "kernelspec": {
   "display_name": "mcc",
   "language": "python",
   "name": "python3"
  },
  "language_info": {
   "codemirror_mode": {
    "name": "ipython",
    "version": 3
   },
   "file_extension": ".py",
   "mimetype": "text/x-python",
   "name": "python",
   "nbconvert_exporter": "python",
   "pygments_lexer": "ipython3",
   "version": "3.10.9"
  },
  "orig_nbformat": 4
 },
 "nbformat": 4,
 "nbformat_minor": 2
}
