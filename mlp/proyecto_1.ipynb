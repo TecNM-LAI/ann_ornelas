{
 "cells": [
  {
   "cell_type": "code",
   "execution_count": 69,
   "metadata": {},
   "outputs": [],
   "source": [
    "from MultiLayerPerceptron import *"
   ]
  },
  {
   "cell_type": "code",
   "execution_count": 70,
   "metadata": {},
   "outputs": [],
   "source": [
    "import numpy as np\n",
    "import matplotlib.pyplot as plt\n",
    "from sklearn.datasets import load_iris"
   ]
  },
  {
   "cell_type": "code",
   "execution_count": 71,
   "metadata": {},
   "outputs": [
    {
     "name": "stdout",
     "output_type": "stream",
     "text": [
      "0.671725582405139\n"
     ]
    }
   ],
   "source": [
    "xin = np.array([1, 0, 0])\n",
    "win = np.array([0.716, 0.742, 0.576])\n",
    "n1 = neural_neuron(w_in=win, layer=\"hidden\", pos=1)\n",
    "n1.feedforward(x_in=xin)\n",
    "print(n1.z)"
   ]
  },
  {
   "cell_type": "code",
   "execution_count": 72,
   "metadata": {},
   "outputs": [
    {
     "name": "stdout",
     "output_type": "stream",
     "text": [
      "0.671725582405139\n"
     ]
    }
   ],
   "source": [
    "print(sigmoid_act(x=0.716, derivate=False))"
   ]
  },
  {
   "cell_type": "code",
   "execution_count": 73,
   "metadata": {},
   "outputs": [
    {
     "name": "stdout",
     "output_type": "stream",
     "text": [
      "[0.716 0.742 0.576]\n",
      "1\n",
      "[1.         0.67172558 0.36911857 0.35663485]\n"
     ]
    }
   ],
   "source": [
    "win_layer = np.array([[0.716, -0.536, -0.590],\n",
    "                      [0.742, -0.262, 0.170],\n",
    "                      [0.576, 0.872, 0.034]])\n",
    "xin_layer = np.array([1, 0, 0])\n",
    "l1 = neural_layer(w_in=win_layer, bias=1 ,n_neurons=3, pos=\"hidden\")\n",
    "l1.feedforward(x_in=xin_layer)\n",
    "print(l1.neurons[0].w)\n",
    "print(l1.neurons[0].pos)\n",
    "print(l1.y)"
   ]
  },
  {
   "cell_type": "code",
   "execution_count": 74,
   "metadata": {},
   "outputs": [],
   "source": [
    "xin_layer_input = np.array([0, 0])\n",
    "\n",
    "win_layer_hidden = np.array([[0.716, -0.536, -0.590],\n",
    "                             [0.742, -0.262, 0.170],\n",
    "                             [0.576, 0.872, 0.034]])\n",
    "\n",
    "win_layer_output = np.array([[-0.754],\n",
    "                             [-0.590],\n",
    "                             [0.564],\n",
    "                             [0.744]])"
   ]
  },
  {
   "cell_type": "code",
   "execution_count": 75,
   "metadata": {},
   "outputs": [
    {
     "name": "stdout",
     "output_type": "stream",
     "text": [
      "[1. 0. 0.]\n",
      "[1.         0.67172558 0.36911857 0.35663485]\n",
      "[0.33697613]\n"
     ]
    }
   ],
   "source": [
    "layer_input = neural_layer(bias=1, n_neurons=2, pos=\"input\")\n",
    "layer_input.feedforward(x_in=xin_layer_input)\n",
    "print(layer_input.y)\n",
    "\n",
    "layer_hidden = neural_layer(w_in=win_layer_hidden, bias=1, n_neurons=3, pos=\"hidden\")\n",
    "layer_hidden.feedforward(x_in=layer_input.y)\n",
    "print(layer_hidden.y)\n",
    "\n",
    "layer_output = neural_layer(w_in=win_layer_output, n_neurons=1, pos=\"output\")\n",
    "layer_output.feedforward(x_in=layer_hidden.y)\n",
    "print(layer_output.y)"
   ]
  },
  {
   "cell_type": "code",
   "execution_count": 76,
   "metadata": {},
   "outputs": [
    {
     "name": "stdout",
     "output_type": "stream",
     "text": [
      "[[-0.86777734 -0.28844768  0.22927087]\n",
      " [ 0.21913913  0.38997344 -0.38146036]\n",
      " [ 0.42213292  0.16441958  0.96665243]]\n",
      "\n",
      "[[-0.62359505]\n",
      " [ 0.86521854]\n",
      " [-0.23949596]\n",
      " [-0.59248539]]\n",
      "------------------------------------------------\n",
      "[1. 0. 0.]\n",
      "\n",
      "[1.         0.295717   0.42838394 0.55706795]\n",
      "\n",
      "[0.30994294]\n",
      "\n",
      "[0.09606463]\n",
      "0.09606462756532115\n"
     ]
    }
   ],
   "source": [
    "ann = neural_network(layer_input_neurons=2, layer_hidden_neurons=3, layer_output_neurons=1)\n",
    "\n",
    "print(ann.w_hidden)\n",
    "print()\n",
    "print(ann.w_output)\n",
    "print(\"------------------------------------------------\")\n",
    "\n",
    "ann.feedforward(x_in=np.array([0, 0]))\n",
    "ann.error(target=np.array([0]))\n",
    "print(ann.layer_input.y)\n",
    "print()\n",
    "print(ann.layer_hidden.y)\n",
    "print()\n",
    "print(ann.layer_output.y)\n",
    "print()\n",
    "print(ann.cost_v)\n",
    "print(ann.error_epoch)"
   ]
  },
  {
   "cell_type": "code",
   "execution_count": 77,
   "metadata": {},
   "outputs": [
    {
     "name": "stdout",
     "output_type": "stream",
     "text": [
      "[[-0.62359505]\n",
      " [ 0.86521854]\n",
      " [-0.23949596]\n",
      " [-0.59248539]]\n",
      "\n",
      "[-0.07565422]\n",
      "\n",
      "\n",
      "\n",
      "[[-0.02269627]\n",
      " [-0.00671167]\n",
      " [-0.00972272]\n",
      " [-0.01264336]]\n",
      "\n",
      "[[-0.60089878]\n",
      " [ 0.87193022]\n",
      " [-0.22977325]\n",
      " [-0.57984203]]\n"
     ]
    }
   ],
   "source": [
    "print(ann.layer_output.w)\n",
    "print()\n",
    "ann.backpropagation()\n",
    "print(ann.layer_output.d)\n",
    "print()\n",
    "print()\n",
    "print()\n",
    "print(ann.layer_output.d_w)\n",
    "print()\n",
    "print(ann.layer_output.w)"
   ]
  },
  {
   "cell_type": "code",
   "execution_count": 78,
   "metadata": {},
   "outputs": [],
   "source": [
    "pass"
   ]
  }
 ],
 "metadata": {
  "kernelspec": {
   "display_name": "mcc",
   "language": "python",
   "name": "python3"
  },
  "language_info": {
   "codemirror_mode": {
    "name": "ipython",
    "version": 3
   },
   "file_extension": ".py",
   "mimetype": "text/x-python",
   "name": "python",
   "nbconvert_exporter": "python",
   "pygments_lexer": "ipython3",
   "version": "3.10.9"
  },
  "orig_nbformat": 4,
  "vscode": {
   "interpreter": {
    "hash": "eb83ca5f0dac6e3da012c26602b27d016f0cd95aa9022f0822fccb445c36bbbd"
   }
  }
 },
 "nbformat": 4,
 "nbformat_minor": 2
}
