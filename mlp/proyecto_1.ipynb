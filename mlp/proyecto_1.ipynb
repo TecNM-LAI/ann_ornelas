{
 "cells": [
  {
   "cell_type": "code",
   "execution_count": 11,
   "metadata": {},
   "outputs": [],
   "source": [
    "from MultiLayerPerceptron import *"
   ]
  },
  {
   "cell_type": "code",
   "execution_count": 12,
   "metadata": {},
   "outputs": [],
   "source": [
    "import numpy as np\n",
    "import matplotlib.pyplot as plt\n",
    "from sklearn.datasets import load_iris"
   ]
  },
  {
   "cell_type": "code",
   "execution_count": 13,
   "metadata": {},
   "outputs": [
    {
     "name": "stdout",
     "output_type": "stream",
     "text": [
      "0.671725582405139\n"
     ]
    }
   ],
   "source": [
    "xin = np.array([1, 0, 0])\n",
    "win = np.array([0.716, 0.742, 0.576])\n",
    "n1 = neural_neuron(w_in=win, layer=\"hidden\", pos=1)\n",
    "n1.feedforward(x_in=xin)\n",
    "print(n1.z)"
   ]
  },
  {
   "cell_type": "code",
   "execution_count": 14,
   "metadata": {},
   "outputs": [
    {
     "name": "stdout",
     "output_type": "stream",
     "text": [
      "0.671725582405139\n"
     ]
    }
   ],
   "source": [
    "print(sigmoid_act(x=0.716, derivate=False))"
   ]
  },
  {
   "cell_type": "code",
   "execution_count": 15,
   "metadata": {},
   "outputs": [
    {
     "name": "stdout",
     "output_type": "stream",
     "text": [
      "[0.716 0.742 0.576]\n",
      "1\n",
      "[1.         0.67172558 0.36911857 0.35663485]\n"
     ]
    }
   ],
   "source": [
    "win_layer = np.array([[0.716, -0.536, -0.590],\n",
    "                      [0.742, -0.262, 0.170],\n",
    "                      [0.576, 0.872, 0.034]])\n",
    "xin_layer = np.array([1, 0, 0])\n",
    "l1 = neural_layer(w_in=win_layer, bias=1 ,n_neurons=3, pos=\"hidden\")\n",
    "l1.feedforward(x_in=xin_layer)\n",
    "print(l1.neurons[0].w)\n",
    "print(l1.neurons[0].pos)\n",
    "print(l1.y)"
   ]
  },
  {
   "cell_type": "code",
   "execution_count": 16,
   "metadata": {},
   "outputs": [],
   "source": [
    "xin_layer_input = np.array([0, 0])\n",
    "\n",
    "win_layer_hidden = np.array([[0.716, -0.536, -0.590],\n",
    "                             [0.742, -0.262, 0.170],\n",
    "                             [0.576, 0.872, 0.034]])\n",
    "\n",
    "win_layer_output = np.array([[-0.754],\n",
    "                             [-0.590],\n",
    "                             [0.564],\n",
    "                             [0.744]])"
   ]
  },
  {
   "cell_type": "code",
   "execution_count": 17,
   "metadata": {},
   "outputs": [
    {
     "name": "stdout",
     "output_type": "stream",
     "text": [
      "[1. 0. 0.]\n",
      "[1.         0.67172558 0.36911857 0.35663485]\n",
      "[0.33697613]\n"
     ]
    }
   ],
   "source": [
    "layer_input = neural_layer(bias=1, n_neurons=2, pos=\"input\")\n",
    "layer_input.feedforward(x_in=xin_layer_input)\n",
    "print(layer_input.y)\n",
    "\n",
    "layer_hidden = neural_layer(w_in=win_layer_hidden, bias=1, n_neurons=3, pos=\"hidden\")\n",
    "layer_hidden.feedforward(x_in=layer_input.y)\n",
    "print(layer_hidden.y)\n",
    "\n",
    "layer_output = neural_layer(w_in=win_layer_output, n_neurons=1, pos=\"output\")\n",
    "layer_output.feedforward(x_in=layer_hidden.y)\n",
    "print(layer_output.y)"
   ]
  },
  {
   "cell_type": "code",
   "execution_count": 18,
   "metadata": {},
   "outputs": [
    {
     "name": "stdout",
     "output_type": "stream",
     "text": [
      "Pesos (hidden):\n",
      "[[-0.25137152 -0.61876951  0.10739667]\n",
      " [-0.66807284  0.19119718  0.72773937]\n",
      " [-0.64557546 -0.75834438 -0.24210596]]\n",
      "\n",
      "Pesos (output):\n",
      "[[ 0.0343381 ]\n",
      " [-0.10685133]\n",
      " [ 0.7576162 ]\n",
      " [ 0.48201375]]\n",
      "------------------------------------------------\n",
      "Salida (input):\n",
      "[1. 0. 0.]\n",
      "\n",
      "Salida (hidden):\n",
      "[1.         0.43748595 0.35006136 0.52682339]\n",
      "\n",
      "Salida (output):\n",
      "[0.62404204]\n",
      "\n"
     ]
    }
   ],
   "source": [
    "ann = neural_network(layer_input_neurons=2, layer_hidden_neurons=3, layer_output_neurons=1)\n",
    "\n",
    "print(\"Pesos (hidden):\")\n",
    "print(ann.w_hidden)\n",
    "print()\n",
    "print(\"Pesos (output):\")\n",
    "print(ann.w_output)\n",
    "\n",
    "print(\"------------------------------------------------\")\n",
    "\n",
    "ann.feedforward(x_in=np.array([0, 0]))\n",
    "ann.error(target=np.array([0]))\n",
    "print(\"Salida (input):\")\n",
    "print(ann.layer_input.y)\n",
    "print()\n",
    "print(\"Salida (hidden):\")\n",
    "print(ann.layer_hidden.y)\n",
    "print()\n",
    "print(\"Salida (output):\")\n",
    "print(ann.layer_output.y)\n",
    "print()"
   ]
  },
  {
   "cell_type": "code",
   "execution_count": 19,
   "metadata": {},
   "outputs": [
    {
     "name": "stdout",
     "output_type": "stream",
     "text": [
      "Delta (output):\n",
      "[-0.14175584]\n",
      "\n",
      "Delta pesos (output):\n",
      "[[-0.04252675]\n",
      " [-0.01860486]\n",
      " [-0.01488697]\n",
      " [-0.02240409]]\n",
      "\n",
      "------------------------------------------------\n",
      "\n",
      "Delta (hidden):\n",
      "[[-0.00486763]\n",
      " [ 0.0151468 ]\n",
      " [-0.10739652]\n",
      " [-0.06832827]]\n",
      "\n",
      "Delta pesos (hidden):\n",
      "[[-0.00028711]\n",
      " [ 0.00108334]\n",
      " [-0.00781293]\n",
      " [-0.00478487]]\n",
      "\n"
     ]
    }
   ],
   "source": [
    "ann.backpropagation()\n",
    "\n",
    "print(\"Delta (output):\")\n",
    "print(ann.layer_output.d)\n",
    "print()\n",
    "print(\"Delta pesos (output):\")\n",
    "print(ann.layer_output.d_w)\n",
    "print()\n",
    "\n",
    "print(\"------------------------------------------------\")\n",
    "print()\n",
    "\n",
    "print(\"Delta (hidden):\")\n",
    "print(ann.layer_hidden.d_in)\n",
    "print()\n",
    "print(\"Delta pesos (hidden):\")\n",
    "print(ann.layer_hidden.d_w)\n",
    "print()"
   ]
  },
  {
   "cell_type": "code",
   "execution_count": 20,
   "metadata": {},
   "outputs": [
    {
     "name": "stdout",
     "output_type": "stream",
     "text": [
      "Pesos (hidden):\n",
      "[[-0.25137152 -0.61876951  0.10739667]\n",
      " [-0.66807284  0.19119718  0.72773937]\n",
      " [-0.64557546 -0.75834438 -0.24210596]]\n",
      "\n",
      "Pesos (output):\n",
      "[[ 0.0343381 ]\n",
      " [-0.10685133]\n",
      " [ 0.7576162 ]\n",
      " [ 0.48201375]]\n",
      "\n",
      "------------------------------------------------\n",
      "\n",
      "Pesos updated (hidden):\n",
      "[[-0.25137152 -0.61876951  0.10739667]\n",
      " [-0.66807284  0.19119718  0.72773937]\n",
      " [-0.64557546 -0.75834438 -0.24210596]]\n",
      "\n",
      "Pesos updated (output):\n",
      "[[-0.00818866]\n",
      " [-0.12545619]\n",
      " [ 0.74272923]\n",
      " [ 0.45960966]]\n",
      "\n"
     ]
    }
   ],
   "source": [
    "print(\"Pesos (hidden):\")\n",
    "print(ann.layer_hidden.w)\n",
    "print()\n",
    "print(\"Pesos (output):\")\n",
    "print(ann.layer_output.w)\n",
    "print()\n",
    "\n",
    "ann.update_weights()\n",
    "print(\"------------------------------------------------\")\n",
    "print()\n",
    "\n",
    "print(\"Pesos updated (hidden):\")\n",
    "print(ann.layer_hidden.w)\n",
    "print()\n",
    "print(\"Pesos updated (output):\")\n",
    "print(ann.layer_output.w)\n",
    "print()"
   ]
  }
 ],
 "metadata": {
  "kernelspec": {
   "display_name": "mcc",
   "language": "python",
   "name": "python3"
  },
  "language_info": {
   "codemirror_mode": {
    "name": "ipython",
    "version": 3
   },
   "file_extension": ".py",
   "mimetype": "text/x-python",
   "name": "python",
   "nbconvert_exporter": "python",
   "pygments_lexer": "ipython3",
   "version": "3.10.9"
  },
  "orig_nbformat": 4,
  "vscode": {
   "interpreter": {
    "hash": "eb83ca5f0dac6e3da012c26602b27d016f0cd95aa9022f0822fccb445c36bbbd"
   }
  }
 },
 "nbformat": 4,
 "nbformat_minor": 2
}
