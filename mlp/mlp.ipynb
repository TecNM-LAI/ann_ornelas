{
 "cells": [
  {
   "cell_type": "code",
   "execution_count": 54,
   "metadata": {},
   "outputs": [],
   "source": [
    "import numpy as np\n",
    "import matplotlib as plt\n",
    "import prettytable as PretyTable"
   ]
  },
  {
   "cell_type": "code",
   "execution_count": 55,
   "metadata": {},
   "outputs": [],
   "source": [
    "class neuron(object):\n",
    "    def __init__(self, x_in, w_in):\n",
    "        self.v = x_in\n",
    "        self.w = w_in\n",
    "        self.z_in = 0\n",
    "        self.z = 0\n",
    "    def calc_ponderada(self):\n",
    "        self.z_in = np.dot(self.v, self.w)\n",
    "    def calc_output(self):\n",
    "        self.z = 1 / (1 + np.exp(-self.z_in))\n"
   ]
  },
  {
   "cell_type": "code",
   "execution_count": 56,
   "metadata": {},
   "outputs": [
    {
     "ename": "AttributeError",
     "evalue": "'neuron' object has no attribute 'output'",
     "output_type": "error",
     "traceback": [
      "\u001b[0;31m---------------------------------------------------------------------------\u001b[0m",
      "\u001b[0;31mAttributeError\u001b[0m                            Traceback (most recent call last)",
      "Cell \u001b[0;32mIn[56], line 6\u001b[0m\n\u001b[1;32m      4\u001b[0m n1\u001b[39m.\u001b[39mcalc_ponderada()\n\u001b[1;32m      5\u001b[0m n1\u001b[39m.\u001b[39mcalc_output()\n\u001b[0;32m----> 6\u001b[0m \u001b[39mprint\u001b[39m(n1\u001b[39m.\u001b[39;49moutput)\n",
      "\u001b[0;31mAttributeError\u001b[0m: 'neuron' object has no attribute 'output'"
     ]
    }
   ],
   "source": [
    "xin = np.array([1, 0, 0])\n",
    "win = np.array([0.716, 0.742, 0.576])\n",
    "n1 = neuron(xin, win)\n",
    "n1.calc_ponderada()\n",
    "n1.calc_output()\n",
    "print(n1.z)"
   ]
  }
 ],
 "metadata": {
  "kernelspec": {
   "display_name": "mcc",
   "language": "python",
   "name": "python3"
  },
  "language_info": {
   "codemirror_mode": {
    "name": "ipython",
    "version": 3
   },
   "file_extension": ".py",
   "mimetype": "text/x-python",
   "name": "python",
   "nbconvert_exporter": "python",
   "pygments_lexer": "ipython3",
   "version": "3.10.9"
  },
  "orig_nbformat": 4,
  "vscode": {
   "interpreter": {
    "hash": "eb83ca5f0dac6e3da012c26602b27d016f0cd95aa9022f0822fccb445c36bbbd"
   }
  }
 },
 "nbformat": 4,
 "nbformat_minor": 2
}
