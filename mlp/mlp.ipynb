{
 "cells": [
  {
   "cell_type": "code",
   "execution_count": 18,
   "metadata": {},
   "outputs": [],
   "source": [
    "import numpy as np\n",
    "import matplotlib as plt"
   ]
  },
  {
   "cell_type": "code",
   "execution_count": 19,
   "metadata": {},
   "outputs": [],
   "source": [
    "class neuron(object):\n",
    "    def __init__(self, x_in, b_in, w_in):\n",
    "        self.num_input = len(x_in)\n",
    "        self.inputs = x_in\n",
    "        self.weights = w_in\n",
    "        self.bias = b_in\n",
    "        self.output = None\n",
    "        self.pon = None\n",
    "        self.a_fun = None\n",
    "    def calc_ponderada(self):\n",
    "        self.pon = 0\n",
    "        for i in range(self.num_input):\n",
    "            self.pon = (self.inputs[i] * self.weights[i]) + self.pon\n",
    "    def calc_output(self):\n",
    "        self.a_fun = 1 / (1 + np.exp(self.pon))\n",
    "        self.output = self.a_fun * (1 - self.a_fun)\n"
   ]
  },
  {
   "cell_type": "code",
   "execution_count": 20,
   "metadata": {},
   "outputs": [
    {
     "name": "stdout",
     "output_type": "stream",
     "text": [
      "<__main__.neuron object at 0x7f9c4251b340>\n"
     ]
    }
   ],
   "source": [
    "n1 = neuron([5,3], 1, [0.5,-0.5])\n",
    "n1.calc_ponderada()\n",
    "n1.calc_output()\n",
    "print(n1.output)"
   ]
  }
 ],
 "metadata": {
  "kernelspec": {
   "display_name": "mcc",
   "language": "python",
   "name": "python3"
  },
  "language_info": {
   "codemirror_mode": {
    "name": "ipython",
    "version": 3
   },
   "file_extension": ".py",
   "mimetype": "text/x-python",
   "name": "python",
   "nbconvert_exporter": "python",
   "pygments_lexer": "ipython3",
   "version": "3.10.9"
  },
  "orig_nbformat": 4,
  "vscode": {
   "interpreter": {
    "hash": "eb83ca5f0dac6e3da012c26602b27d016f0cd95aa9022f0822fccb445c36bbbd"
   }
  }
 },
 "nbformat": 4,
 "nbformat_minor": 2
}
