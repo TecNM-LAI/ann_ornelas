{
 "cells": [
  {
   "cell_type": "code",
   "execution_count": 1,
   "metadata": {},
   "outputs": [],
   "source": [
    "from MultiLayerPerceptron import *"
   ]
  },
  {
   "cell_type": "code",
   "execution_count": 2,
   "metadata": {},
   "outputs": [],
   "source": [
    "import numpy as np\n",
    "import matplotlib.pyplot as plt\n",
    "from sklearn.datasets import load_iris"
   ]
  },
  {
   "cell_type": "code",
   "execution_count": 3,
   "metadata": {},
   "outputs": [
    {
     "name": "stdout",
     "output_type": "stream",
     "text": [
      "0.671725582405139\n"
     ]
    }
   ],
   "source": [
    "xin = np.array([1, 0, 0])\n",
    "win = np.array([0.716, 0.742, 0.576])\n",
    "n1 = neural_neuron(w_in=win, layer=\"hidden\", pos=1)\n",
    "n1.feedforward(x_in=xin)\n",
    "print(n1.z)"
   ]
  },
  {
   "cell_type": "code",
   "execution_count": 4,
   "metadata": {},
   "outputs": [
    {
     "name": "stdout",
     "output_type": "stream",
     "text": [
      "0.671725582405139\n"
     ]
    }
   ],
   "source": [
    "print(sigmoid_act(x=0.716, derivate=False))"
   ]
  },
  {
   "cell_type": "code",
   "execution_count": 5,
   "metadata": {},
   "outputs": [
    {
     "name": "stdout",
     "output_type": "stream",
     "text": [
      "[0.716 0.742 0.576]\n",
      "1\n",
      "[1.         0.67172558 0.36911857 0.35663485]\n"
     ]
    }
   ],
   "source": [
    "win_layer = np.array([[0.716, -0.536, -0.590],\n",
    "                      [0.742, -0.262, 0.170],\n",
    "                      [0.576, 0.872, 0.034]])\n",
    "xin_layer = np.array([1, 0, 0])\n",
    "l1 = neural_layer(w_in=win_layer, bias=1 ,n_neurons=3, pos=\"hidden\")\n",
    "l1.feedforward(x_in=xin_layer)\n",
    "print(l1.neurons[0].w)\n",
    "print(l1.neurons[0].pos)\n",
    "print(l1.y)"
   ]
  },
  {
   "cell_type": "code",
   "execution_count": 6,
   "metadata": {},
   "outputs": [],
   "source": [
    "xin_layer_input = np.array([0, 0])\n",
    "\n",
    "win_layer_hidden = np.array([[0.716, -0.536, -0.590],\n",
    "                             [0.742, -0.262, 0.170],\n",
    "                             [0.576, 0.872, 0.034]])\n",
    "\n",
    "win_layer_output = np.array([[-0.754],\n",
    "                             [-0.590],\n",
    "                             [0.564],\n",
    "                             [0.744]])"
   ]
  },
  {
   "cell_type": "code",
   "execution_count": 7,
   "metadata": {},
   "outputs": [
    {
     "name": "stdout",
     "output_type": "stream",
     "text": [
      "[1. 0. 0.]\n",
      "[1.         0.67172558 0.36911857 0.35663485]\n",
      "[0.33697613]\n"
     ]
    }
   ],
   "source": [
    "layer_input = neural_layer(bias=1, n_neurons=2, pos=\"input\")\n",
    "layer_input.feedforward(x_in=xin_layer_input)\n",
    "print(layer_input.y)\n",
    "\n",
    "layer_hidden = neural_layer(w_in=win_layer_hidden, bias=1, n_neurons=3, pos=\"hidden\")\n",
    "layer_hidden.feedforward(x_in=layer_input.y)\n",
    "print(layer_hidden.y)\n",
    "\n",
    "layer_output = neural_layer(w_in=win_layer_output, n_neurons=1, pos=\"output\")\n",
    "layer_output.feedforward(x_in=layer_hidden.y)\n",
    "print(layer_output.y)"
   ]
  },
  {
   "cell_type": "code",
   "execution_count": 8,
   "metadata": {},
   "outputs": [
    {
     "name": "stdout",
     "output_type": "stream",
     "text": [
      "[[ 0.28986176 -0.13492661  0.68257632]\n",
      " [-0.77752116  0.30510972 -0.67098417]\n",
      " [-0.06315737  0.87335075 -0.94743139]]\n",
      "\n",
      "[[-0.68076704]\n",
      " [ 0.64335286]\n",
      " [ 0.70829552]\n",
      " [-0.20336073]]\n",
      "------------------------------------------------\n",
      "[1. 0. 0.]\n",
      "\n",
      "[1.         0.57196229 0.46631943 0.66431346]\n",
      "\n",
      "[0.47063464]\n"
     ]
    }
   ],
   "source": [
    "ann = neural_network(layer_input_neurons=2, layer_hidden_neurons=3, layer_output_neurons=1)\n",
    "print(ann.w_hidden)\n",
    "print()\n",
    "print(ann.w_output)\n",
    "print(\"------------------------------------------------\")\n",
    "ann.feedforward(x_in=np.array([0, 0]))\n",
    "print(ann.layer_input.y)\n",
    "print()\n",
    "print(ann.layer_hidden.y)\n",
    "print()\n",
    "print(ann.layer_output.y)"
   ]
  }
 ],
 "metadata": {
  "kernelspec": {
   "display_name": "mcc",
   "language": "python",
   "name": "python3"
  },
  "language_info": {
   "codemirror_mode": {
    "name": "ipython",
    "version": 3
   },
   "file_extension": ".py",
   "mimetype": "text/x-python",
   "name": "python",
   "nbconvert_exporter": "python",
   "pygments_lexer": "ipython3",
   "version": "3.10.9"
  },
  "orig_nbformat": 4,
  "vscode": {
   "interpreter": {
    "hash": "eb83ca5f0dac6e3da012c26602b27d016f0cd95aa9022f0822fccb445c36bbbd"
   }
  }
 },
 "nbformat": 4,
 "nbformat_minor": 2
}
