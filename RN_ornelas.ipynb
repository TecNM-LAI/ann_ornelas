{
  "cells": [
    {
      "cell_type": "code",
      "execution_count": 1,
      "metadata": {
        "id": "v2SNBwKLrneq"
      },
      "outputs": [],
      "source": [
        "'''\n",
        "Ing. Pérez Hernández Oscar Kevin\n",
        "intituto tecnologico de León\n",
        "02/03/23 -----> ?/03/23\n",
        "\n",
        "'''\n",
        "\n",
        "import numpy as np\n",
        "\n",
        "# Declaramos la clase neurona \n",
        "\n",
        "\n",
        "\n",
        "\n",
        "class Neurona:\n",
        "\n",
        "# Aqui le crramos un constructro. Este constructorn necesita \n",
        "# uno ovarios atributos para construir la clase \"Neurona\"\n",
        "    \n",
        "    def __init__(self, vector_entradas, vector_pesos ): \n",
        "\n",
        "        self.vector_entradas = vector_entradas \n",
        "        self.Vector_pesos = vector_pesos                 \n",
        "            \n",
        "#Aqui estamos creando metodos \n",
        "\n",
        "    def suma_ponderada(self):                                             \n",
        "                                                             \n",
        "        self.ponderada = np.dot(self.vector_entradas, self.Vector_pesos)  \n",
        "                                                                            \n",
        "    def calcular_salida(self):                                          \n",
        "         self.salida = 1/(1 + np.exp(-self.ponderada))                    \n"
      ]
    },
    {
      "cell_type": "code",
      "execution_count": 5,
      "metadata": {
        "id": "iM40nPT7rv8C"
      },
      "outputs": [
        {
          "name": "stdout",
          "output_type": "stream",
          "text": [
            "[1.0, 1.0, 1.0]\n",
            "[1.0, 1.0, 1.0]\n",
            " tus valores de las neuronas de entrada son:\n",
            "\n",
            " [1. 1. 1.]\n",
            "\n",
            " y los valores de tus pesos son:\n",
            "\n",
            " [1. 1. 1.]\n",
            "\n",
            "\n",
            "Tú 'Zinj' es = 0.9525741268224334\n",
            "agreamos una mamada para porbar esto \n"
          ]
        }
      ],
      "source": [
        "\n",
        "lista_de_entrada = []\n",
        "lista_de_pesos = []\n",
        "\n",
        "lista_de_entrada.append(float(input(\"ingresa el valor del Bias: \")))\n",
        "lista_de_entrada.append(float(input(\"ingresa el valor de la primera entrada: \")))\n",
        "lista_de_entrada.append(float(input(\"ingresa el valor de la segunda entrada: \")))\n",
        "\n",
        "lista_de_pesos.append(float(input(\"ingresa el valor del peso del Bias: \")))\n",
        "lista_de_pesos.append(float(input(\"ingresa el valor del peso de la primera entrada: \")))\n",
        "lista_de_pesos.append(float(input(\"ingresa el valor del peso de la segunda entrada: \")))              \n",
        "\n",
        "print(lista_de_entrada)\n",
        "print(lista_de_pesos)\n",
        "\n",
        "vector_de_entradas = np.array(lista_de_entrada)\n",
        "vector_de_pesos = np.array(lista_de_pesos)\n",
        "\n",
        "print(f\" tus valores de las neuronas de entrada son:\\n\\n {vector_de_entradas}\\n\\n y los valores de tus pesos son:\\n\\n {vector_de_pesos}\\n\\n\")\n",
        "\n",
        "Neurona1 = Neurona(vector_de_entradas, vector_de_pesos)\n",
        "Neurona1.suma_ponderada()\n",
        "Neurona1.calcular_salida()\n",
        "\n",
        "print(f\"Tú 'Zinj' es = {Neurona1.salida}\" )\n",
        "\n",
        "print(\"otro print nomas por no dejar\")\n",
        "\n",
        "\n"
      ]
    }
  ],
  "metadata": {
    "colab": {
      "provenance": []
    },
    "kernelspec": {
      "display_name": "Python 3",
      "name": "python3"
    },
    "language_info": {
      "codemirror_mode": {
        "name": "ipython",
        "version": 3
      },
      "file_extension": ".py",
      "mimetype": "text/x-python",
      "name": "python",
      "nbconvert_exporter": "python",
      "pygments_lexer": "ipython3",
      "version": "3.11.2"
    }
  },
  "nbformat": 4,
  "nbformat_minor": 0
}
