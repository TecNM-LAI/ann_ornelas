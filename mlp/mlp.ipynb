{
 "cells": [
  {
   "cell_type": "code",
   "execution_count": 33,
   "metadata": {},
   "outputs": [],
   "source": [
    "import numpy as np\n",
    "import matplotlib as plt\n",
    "import prettytable as PretyTable"
   ]
  },
  {
   "cell_type": "code",
   "execution_count": 34,
   "metadata": {},
   "outputs": [],
   "source": [
    "class neuron(object):\n",
    "    def __init__(self, x_in, b_in, w_in):\n",
    "        self.num_input = len(x_in)\n",
    "        self.inputs = x_in\n",
    "        self.weights = w_in\n",
    "        self.bias = b_in\n",
    "        self.output = None\n",
    "        self.pon = None\n",
    "        self.a_fun = None\n",
    "    def calc_ponderada(self):\n",
    "        self.pon = 0\n",
    "        self.pon = np.dot(self.inputs, self.weights) + self.bias\n",
    "    def calc_output(self):\n",
    "        self.a_fun = 1 / (1 + np.exp(self.pon))\n",
    "        self.output = self.a_fun * (1 - self.a_fun)\n"
   ]
  },
  {
   "cell_type": "code",
   "execution_count": 35,
   "metadata": {},
   "outputs": [
    {
     "ename": "AttributeError",
     "evalue": "'neuron' object has no attribute 'input'",
     "output_type": "error",
     "traceback": [
      "\u001b[0;31m---------------------------------------------------------------------------\u001b[0m",
      "\u001b[0;31mAttributeError\u001b[0m                            Traceback (most recent call last)",
      "Cell \u001b[0;32mIn[35], line 5\u001b[0m\n\u001b[1;32m      3\u001b[0m b \u001b[39m=\u001b[39m \u001b[39m0\u001b[39m\n\u001b[1;32m      4\u001b[0m n1 \u001b[39m=\u001b[39m neuron(xin, b, win)\n\u001b[0;32m----> 5\u001b[0m n1\u001b[39m.\u001b[39;49mcalc_ponderada()\n\u001b[1;32m      6\u001b[0m n1\u001b[39m.\u001b[39mcalc_output()\n\u001b[1;32m      7\u001b[0m \u001b[39mprint\u001b[39m(n1\u001b[39m.\u001b[39moutput)\n",
      "Cell \u001b[0;32mIn[34], line 12\u001b[0m, in \u001b[0;36mneuron.calc_ponderada\u001b[0;34m(self)\u001b[0m\n\u001b[1;32m     10\u001b[0m \u001b[39mdef\u001b[39;00m \u001b[39mcalc_ponderada\u001b[39m(\u001b[39mself\u001b[39m):\n\u001b[1;32m     11\u001b[0m     \u001b[39mself\u001b[39m\u001b[39m.\u001b[39mpon \u001b[39m=\u001b[39m \u001b[39m0\u001b[39m\n\u001b[0;32m---> 12\u001b[0m     \u001b[39mself\u001b[39m\u001b[39m.\u001b[39mpon \u001b[39m=\u001b[39m np\u001b[39m.\u001b[39mdot(\u001b[39mself\u001b[39;49m\u001b[39m.\u001b[39;49minput, \u001b[39mself\u001b[39m\u001b[39m.\u001b[39mweights) \u001b[39m+\u001b[39m \u001b[39mself\u001b[39m\u001b[39m.\u001b[39mbias\n",
      "\u001b[0;31mAttributeError\u001b[0m: 'neuron' object has no attribute 'input'"
     ]
    }
   ],
   "source": [
    "xin = np.array([5, 3])\n",
    "win = np.array([0.5, -0.5])\n",
    "b = 0\n",
    "n1 = neuron(xin, b, win)\n",
    "n1.calc_ponderada()\n",
    "n1.calc_output()\n",
    "print(n1.output)"
   ]
  }
 ],
 "metadata": {
  "kernelspec": {
   "display_name": "mcc",
   "language": "python",
   "name": "python3"
  },
  "language_info": {
   "codemirror_mode": {
    "name": "ipython",
    "version": 3
   },
   "file_extension": ".py",
   "mimetype": "text/x-python",
   "name": "python",
   "nbconvert_exporter": "python",
   "pygments_lexer": "ipython3",
   "version": "3.10.9"
  },
  "orig_nbformat": 4,
  "vscode": {
   "interpreter": {
    "hash": "eb83ca5f0dac6e3da012c26602b27d016f0cd95aa9022f0822fccb445c36bbbd"
   }
  }
 },
 "nbformat": 4,
 "nbformat_minor": 2
}
